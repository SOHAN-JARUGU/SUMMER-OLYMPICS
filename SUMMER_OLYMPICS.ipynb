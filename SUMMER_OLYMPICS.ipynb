{
  "nbformat": 4,
  "nbformat_minor": 0,
  "metadata": {
    "colab": {
      "name": "SUMMER OLYMPICS.ipynb",
      "provenance": [],
      "collapsed_sections": [],
      "toc_visible": true
    },
    "kernelspec": {
      "name": "python3",
      "display_name": "Python 3"
    },
    "language_info": {
      "name": "python"
    }
  },
  "cells": [
    {
      "cell_type": "markdown",
      "metadata": {
        "id": "J-I75lh4oJmk"
      },
      "source": [
        "# 1) In how many cities Summer Olympics is held so far?"
      ]
    },
    {
      "cell_type": "code",
      "metadata": {
        "id": "Q7iJyX5bnR_5"
      },
      "source": [
        "import pandas as pd\n",
        "df=pd.read_csv('summer.csv')\n",
        "print('In',len(df['City'].unique()),'cities Summer Olympics is held so far')"
      ],
      "execution_count": null,
      "outputs": []
    },
    {
      "cell_type": "markdown",
      "metadata": {
        "id": "fUHaxDlknaiF"
      },
      "source": [
        "# 2) Which sport is having most number of Gold medals so far? (Top 5)"
      ]
    },
    {
      "cell_type": "code",
      "metadata": {
        "id": "FyY0j448nZwB"
      },
      "source": [
        "import pandas as pd\n",
        "import matplotlib.pyplot as plot\n",
        "data=[]\n",
        "df=pd.read_csv('summer.csv')\n",
        "\n",
        "df=df[df['Medal']=='Gold']\n",
        "for sport in df['Sport'].unique():\n",
        "    data.append([sport,len(df[df['Sport']==sport])])\n",
        "data=pd.DataFrame(data,columns=['Sport','Medals'])\n",
        "data=data.sort_values(by='Medals',ascending=False).head(5)\n",
        "print(data.plot(x='Sport',y='Medals',kind='bar',figsize=(5,5)))"
      ],
      "execution_count": null,
      "outputs": []
    },
    {
      "cell_type": "markdown",
      "metadata": {
        "id": "EIJpqljfos41"
      },
      "source": [
        "# 3) Which sport is having most number of medals so far? (Top 5)"
      ]
    },
    {
      "cell_type": "code",
      "metadata": {
        "id": "AaumzCqbnSNf"
      },
      "source": [
        "import pandas as pd\n",
        "import matplotlib.pyplot as plot\n",
        "data=[]\n",
        "df=pd.read_csv('summer.csv')\n",
        "\n",
        "for sport in df['Sport'].unique():\n",
        "    data.append([sport,len(df[df['Sport']==sport])])\n",
        "data=pd.DataFrame(data,columns=['Sport','Medals'])\n",
        "data=data.sort_values(by='Medals',ascending=False).head(5)\n",
        "print(data.plot(x='Sport',y='Medals',kind='bar',figsize=(5,5)))"
      ],
      "execution_count": null,
      "outputs": []
    },
    {
      "cell_type": "markdown",
      "metadata": {
        "id": "oCSpAwHQo5Qw"
      },
      "source": [
        "# 4) Which player has won most number of medals? (Top 5)\n"
      ]
    },
    {
      "cell_type": "code",
      "metadata": {
        "id": "iyFimDGknSZ5"
      },
      "source": [
        "import pandas as pd\n",
        "import matplotlib.pyplot as plot\n",
        "data=[]\n",
        "df=pd.read_csv('summer.csv')\n",
        "\n",
        "for player in df['Athlete'].unique():\n",
        "    data.append([player,len(df[df['Athlete']==player])])\n",
        "data=pd.DataFrame(data,columns=['Player','Medals'])\n",
        "data=data.sort_values(by='Medals',ascending=False).head(5)\n",
        "print(data.plot(x='Player',y='Medals',kind='bar',figsize=(5,5)))\n"
      ],
      "execution_count": null,
      "outputs": []
    },
    {
      "cell_type": "markdown",
      "metadata": {
        "id": "G97Z9OlnpKMS"
      },
      "source": [
        "# 5) Which player has won most number Gold Medals of medals? (Top 5)"
      ]
    },
    {
      "cell_type": "code",
      "metadata": {
        "id": "w1UVeSYJnSl0"
      },
      "source": [
        "import pandas as pd\n",
        "import matplotlib.pyplot as plot\n",
        "data=[]\n",
        "df=pd.read_csv('summer.csv')\n",
        "\n",
        "df=df[df['Medal']=='Gold']\n",
        "for player in df['Athlete'].unique():\n",
        "    data.append([player,len(df[df['Athlete']==player])])\n",
        "data=pd.DataFrame(data,columns=['Player','Gold Medals'])\n",
        "data=data.sort_values(by='Gold Medals',ascending=False).head(5)\n",
        "print(data.plot(x='Player',y='Gold Medals',kind='bar',figsize=(5,5)))"
      ],
      "execution_count": null,
      "outputs": []
    },
    {
      "cell_type": "markdown",
      "metadata": {
        "id": "I_kw36V9pal4"
      },
      "source": [
        "# 6) In which year India won first Gold Medal in Summer Olympics?"
      ]
    },
    {
      "cell_type": "code",
      "metadata": {
        "colab": {
          "base_uri": "https://localhost:8080/"
        },
        "id": "8eHa_FjonSxn",
        "outputId": "dc237f74-6217-46c0-dfb6-52ecb3fbaebe"
      },
      "source": [
        "import pandas as pd\n",
        "data=[]\n",
        "df=pd.read_csv('summer.csv')\n",
        "df=df[df['Country']=='IND']\n",
        "df=df[df['Medal']=='Gold']\n",
        "df=df.sort_values(by='Year',ascending=True).head(1)\n",
        "data = df['Year'].tolist()\n",
        "print(\"In the year\",data[0],\"India won first Gold medal \")\n"
      ],
      "execution_count": 95,
      "outputs": [
        {
          "output_type": "stream",
          "name": "stdout",
          "text": [
            "In the year 1928 India won first Gold medal \n"
          ]
        }
      ]
    },
    {
      "cell_type": "markdown",
      "metadata": {
        "id": "KNweaDw8qqxd"
      },
      "source": [
        "# 7) Which event is most popular in terms on number of players? (Top 5)"
      ]
    },
    {
      "cell_type": "code",
      "metadata": {
        "id": "xG7DHr6bnS79"
      },
      "source": [
        "import pandas as pd\n",
        "import matplotlib.pyplot as plot\n",
        "data=[]\n",
        "df=pd.read_csv('summer.csv')\n",
        "\n",
        "for event in df['Event'].unique():\n",
        "    data.append([event,len(df[df['Event']==event])])\n",
        "data=pd.DataFrame(data,columns=['Event','No.of.Players'])\n",
        "data=data.sort_values(by='No.of.Players',ascending=False).head(5)\n",
        "print(data.plot(x='Event',y='No.of.Players',kind='bar',figsize=(5,5)))"
      ],
      "execution_count": null,
      "outputs": []
    },
    {
      "cell_type": "markdown",
      "metadata": {
        "id": "igFrthVpqyMs"
      },
      "source": [
        "# 8) Which sport is having most female Gold Medalists? (Top 5)"
      ]
    },
    {
      "cell_type": "code",
      "metadata": {
        "id": "3emIP4N1nTGp"
      },
      "source": [
        "import pandas as pd\n",
        "import matplotlib.pyplot as plot\n",
        "data=[]\n",
        "df=pd.read_csv('summer.csv')\n",
        "df=df[df['Gender']=='Women']\n",
        "df=df[df['Medal']=='Gold']\n",
        "for sport in df['Sport'].unique():\n",
        "    data.append([sport,len(df[df['Sport']==sport])])\n",
        "data=pd.DataFrame(data,columns=['Event','No.of.Female Players'])\n",
        "data=data.sort_values(by='No.of.Female Players',ascending=False).head(5)\n",
        "print(data.plot(x='Event',y='No.of.Female Players',kind='bar',figsize=(5,5)))"
      ],
      "execution_count": null,
      "outputs": []
    }
  ]
}